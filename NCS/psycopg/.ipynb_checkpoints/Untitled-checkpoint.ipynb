{
 "cells": [
  {
   "cell_type": "code",
   "execution_count": 36,
   "id": "a839022f",
   "metadata": {},
   "outputs": [],
   "source": [
    "import psycopg"
   ]
  },
  {
   "cell_type": "code",
   "execution_count": 37,
   "id": "92911080",
   "metadata": {},
   "outputs": [
    {
     "name": "stdout",
     "output_type": "stream",
     "text": [
      "3.1.10\n"
     ]
    }
   ],
   "source": [
    "print(psycopg.__version__)"
   ]
  },
  {
   "cell_type": "code",
   "execution_count": 38,
   "id": "59ce9c75",
   "metadata": {},
   "outputs": [],
   "source": [
    "conn = psycopg.connect(\n",
    "    \"host=localhost dbname=postgres user=postgres password=0815 port=5432\"\n",
    ") "
   ]
  },
  {
   "cell_type": "code",
   "execution_count": 39,
   "id": "0d052b81",
   "metadata": {},
   "outputs": [],
   "source": [
    "cur = conn.cursor()"
   ]
  },
  {
   "cell_type": "code",
   "execution_count": 40,
   "id": "b6f05d9b",
   "metadata": {},
   "outputs": [
    {
     "ename": "DuplicateTable",
     "evalue": "\"poi2\" 이름의 릴레이션(relation)이 이미 있습니다",
     "output_type": "error",
     "traceback": [
      "\u001b[1;31m---------------------------------------------------------------------------\u001b[0m",
      "\u001b[1;31mDuplicateTable\u001b[0m                            Traceback (most recent call last)",
      "Cell \u001b[1;32mIn[40], line 1\u001b[0m\n\u001b[1;32m----> 1\u001b[0m cur\u001b[38;5;241m.\u001b[39mexecute(\u001b[38;5;124m\"\"\"\u001b[39m\n\u001b[0;32m      2\u001b[0m \u001b[38;5;124m    CREATE TABLE POI2 (\u001b[39m\n\u001b[0;32m      3\u001b[0m \u001b[38;5;124m        latitude FLOAT,\u001b[39m\n\u001b[0;32m      4\u001b[0m \u001b[38;5;124m        longitude FLOAT,\u001b[39m\n\u001b[0;32m      5\u001b[0m \u001b[38;5;124m        name VARCHAR(10),\u001b[39m\n\u001b[0;32m      6\u001b[0m \u001b[38;5;124m        category INT\u001b[39m\n\u001b[0;32m      7\u001b[0m \u001b[38;5;124m    )\u001b[39m\n\u001b[0;32m      8\u001b[0m \u001b[38;5;124m\"\"\"\u001b[39m)\n",
      "File \u001b[1;32m~\\anaconda3\\Lib\\site-packages\\psycopg\\cursor.py:737\u001b[0m, in \u001b[0;36mCursor.execute\u001b[1;34m(self, query, params, prepare, binary)\u001b[0m\n\u001b[0;32m    733\u001b[0m         \u001b[38;5;28mself\u001b[39m\u001b[38;5;241m.\u001b[39m_conn\u001b[38;5;241m.\u001b[39mwait(\n\u001b[0;32m    734\u001b[0m             \u001b[38;5;28mself\u001b[39m\u001b[38;5;241m.\u001b[39m_execute_gen(query, params, prepare\u001b[38;5;241m=\u001b[39mprepare, binary\u001b[38;5;241m=\u001b[39mbinary)\n\u001b[0;32m    735\u001b[0m         )\n\u001b[0;32m    736\u001b[0m \u001b[38;5;28;01mexcept\u001b[39;00m e\u001b[38;5;241m.\u001b[39m_NO_TRACEBACK \u001b[38;5;28;01mas\u001b[39;00m ex:\n\u001b[1;32m--> 737\u001b[0m     \u001b[38;5;28;01mraise\u001b[39;00m ex\u001b[38;5;241m.\u001b[39mwith_traceback(\u001b[38;5;28;01mNone\u001b[39;00m)\n\u001b[0;32m    738\u001b[0m \u001b[38;5;28;01mreturn\u001b[39;00m \u001b[38;5;28mself\u001b[39m\n",
      "\u001b[1;31mDuplicateTable\u001b[0m: \"poi2\" 이름의 릴레이션(relation)이 이미 있습니다"
     ]
    }
   ],
   "source": [
    "cur.execute(\"\"\"\n",
    "    CREATE TABLE POI2 (\n",
    "        latitude FLOAT,\n",
    "        longitude FLOAT,\n",
    "        name VARCHAR(10),\n",
    "        category INT\n",
    "    )\n",
    "\"\"\")"
   ]
  },
  {
   "cell_type": "code",
   "execution_count": 31,
   "id": "65c0d154",
   "metadata": {},
   "outputs": [],
   "source": [
    "import random\n",
    "import string"
   ]
  },
  {
   "cell_type": "code",
   "execution_count": 32,
   "id": "909c6f4f",
   "metadata": {},
   "outputs": [],
   "source": [
    "conn.commit()"
   ]
  },
  {
   "cell_type": "code",
   "execution_count": 33,
   "id": "cce6d96a",
   "metadata": {},
   "outputs": [],
   "source": [
    "for _ in range(1000):\n",
    "    latitude = random.uniform(37.0, 38.0)\n",
    "    longitude = random.uniform(127.0, 128.0)\n",
    "    name = ''.join(random.choice(string.ascii_uppercase) for _ in range(10))\n",
    "    category = random.randint(1, 10)\n",
    "    \n",
    "    # 데이터 삽입 쿼리 실행\n",
    "    cur.execute(\"INSERT INTO POI2 (latitude, longitude, name, category) VALUES (%s, %s, %s, %s)\", (latitude, longitude, name, category))"
   ]
  },
  {
   "cell_type": "code",
   "execution_count": 34,
   "id": "f38e9106",
   "metadata": {},
   "outputs": [],
   "source": [
    "conn.commit()"
   ]
  },
  {
   "cell_type": "code",
   "execution_count": 35,
   "id": "3ae84850",
   "metadata": {},
   "outputs": [
    {
     "ename": "IndexError",
     "evalue": "tuple index out of range",
     "output_type": "error",
     "traceback": [
      "\u001b[1;31m---------------------------------------------------------------------------\u001b[0m",
      "\u001b[1;31mIndexError\u001b[0m                                Traceback (most recent call last)",
      "Cell \u001b[1;32mIn[35], line 11\u001b[0m\n\u001b[0;32m      9\u001b[0m filtered_data \u001b[38;5;241m=\u001b[39m cur\u001b[38;5;241m.\u001b[39mfetchall()\n\u001b[0;32m     10\u001b[0m \u001b[38;5;28;01mfor\u001b[39;00m row \u001b[38;5;129;01min\u001b[39;00m filtered_data:\n\u001b[1;32m---> 11\u001b[0m     \u001b[38;5;28mprint\u001b[39m(\u001b[38;5;124mf\u001b[39m\u001b[38;5;124m'\u001b[39m\u001b[38;5;124mID: \u001b[39m\u001b[38;5;132;01m{\u001b[39;00mrow[\u001b[38;5;241m0\u001b[39m]\u001b[38;5;132;01m}\u001b[39;00m\u001b[38;5;124m, 좌표: (\u001b[39m\u001b[38;5;132;01m{\u001b[39;00mrow[\u001b[38;5;241m1\u001b[39m]\u001b[38;5;132;01m}\u001b[39;00m\u001b[38;5;124m, \u001b[39m\u001b[38;5;132;01m{\u001b[39;00mrow[\u001b[38;5;241m2\u001b[39m]\u001b[38;5;132;01m}\u001b[39;00m\u001b[38;5;124m), 명칭: \u001b[39m\u001b[38;5;132;01m{\u001b[39;00mrow[\u001b[38;5;241m3\u001b[39m]\u001b[38;5;132;01m}\u001b[39;00m\u001b[38;5;124m, 종별: \u001b[39m\u001b[38;5;132;01m{\u001b[39;00mrow[\u001b[38;5;241m4\u001b[39m]\u001b[38;5;132;01m}\u001b[39;00m\u001b[38;5;124m'\u001b[39m)\n",
      "\u001b[1;31mIndexError\u001b[0m: tuple index out of range"
     ]
    }
   ],
   "source": [
    "cur.execute(\"\"\"\n",
    "    SELECT * FROM POI2 \n",
    "    WHERE \n",
    "        longitude BETWEEN 127.4 AND 127.6 \n",
    "        AND latitude BETWEEN 37.4 AND 37.6\n",
    "\"\"\")\n",
    "\n",
    "# 결과 출력\n",
    "filtered_data = cur.fetchall()\n",
    "for row in filtered_data:\n",
    "    print(f'ID: {row[0]}, 좌표: ({row[1]}, {row[2]}), 명칭: {row[3]}, 종별: {row[4]}')"
   ]
  },
  {
   "cell_type": "code",
   "execution_count": null,
   "id": "b4adb306",
   "metadata": {},
   "outputs": [],
   "source": []
  }
 ],
 "metadata": {
  "kernelspec": {
   "display_name": "Python 3 (ipykernel)",
   "language": "python",
   "name": "python3"
  },
  "language_info": {
   "codemirror_mode": {
    "name": "ipython",
    "version": 3
   },
   "file_extension": ".py",
   "mimetype": "text/x-python",
   "name": "python",
   "nbconvert_exporter": "python",
   "pygments_lexer": "ipython3",
   "version": "3.11.4"
  }
 },
 "nbformat": 4,
 "nbformat_minor": 5
}
