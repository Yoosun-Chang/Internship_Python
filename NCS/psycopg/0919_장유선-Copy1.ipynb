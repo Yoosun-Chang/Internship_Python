{
 "cells": [
  {
   "cell_type": "code",
   "execution_count": 34,
   "id": "a839022f",
   "metadata": {},
   "outputs": [],
   "source": [
    "import psycopg\n",
    "from psycopg.types.shapely import register_shapely\n",
    "from shapely.geometry import Point"
   ]
  },
  {
   "cell_type": "code",
   "execution_count": 35,
   "id": "59ce9c75",
   "metadata": {},
   "outputs": [],
   "source": [
    "conn = psycopg.connect(\n",
    "    \"host=localhost dbname=postgres user=postgres password=0815 port=5432\"\n",
    ") "
   ]
  },
  {
   "cell_type": "code",
   "execution_count": 36,
   "id": "0d052b81",
   "metadata": {},
   "outputs": [],
   "source": [
    "cur = conn.cursor()"
   ]
  },
  {
   "cell_type": "code",
   "execution_count": 37,
   "id": "b6f05d9b",
   "metadata": {},
   "outputs": [
    {
     "ename": "KeyboardInterrupt",
     "evalue": "",
     "output_type": "error",
     "traceback": [
      "\u001b[1;31m---------------------------------------------------------------------------\u001b[0m",
      "\u001b[1;31mKeyboardInterrupt\u001b[0m                         Traceback (most recent call last)",
      "Cell \u001b[1;32mIn[37], line 1\u001b[0m\n\u001b[1;32m----> 1\u001b[0m cur\u001b[38;5;241m.\u001b[39mexecute(\u001b[38;5;124m\"\"\"\u001b[39m\n\u001b[0;32m      2\u001b[0m \u001b[38;5;124m    CREATE TABLE POI_GEO (\u001b[39m\n\u001b[0;32m      3\u001b[0m \u001b[38;5;124m        location GEOMETRY(Point, 4326),\u001b[39m\n\u001b[0;32m      4\u001b[0m \u001b[38;5;124m        name VARCHAR(10),\u001b[39m\n\u001b[0;32m      5\u001b[0m \u001b[38;5;124m        category INT\u001b[39m\n\u001b[0;32m      6\u001b[0m \u001b[38;5;124m    )\u001b[39m\n\u001b[0;32m      7\u001b[0m \u001b[38;5;124m\"\"\"\u001b[39m)\n",
      "File \u001b[1;32m~\\anaconda3\\Lib\\site-packages\\psycopg\\cursor.py:737\u001b[0m, in \u001b[0;36mCursor.execute\u001b[1;34m(self, query, params, prepare, binary)\u001b[0m\n\u001b[0;32m    733\u001b[0m         \u001b[38;5;28mself\u001b[39m\u001b[38;5;241m.\u001b[39m_conn\u001b[38;5;241m.\u001b[39mwait(\n\u001b[0;32m    734\u001b[0m             \u001b[38;5;28mself\u001b[39m\u001b[38;5;241m.\u001b[39m_execute_gen(query, params, prepare\u001b[38;5;241m=\u001b[39mprepare, binary\u001b[38;5;241m=\u001b[39mbinary)\n\u001b[0;32m    735\u001b[0m         )\n\u001b[0;32m    736\u001b[0m \u001b[38;5;28;01mexcept\u001b[39;00m e\u001b[38;5;241m.\u001b[39m_NO_TRACEBACK \u001b[38;5;28;01mas\u001b[39;00m ex:\n\u001b[1;32m--> 737\u001b[0m     \u001b[38;5;28;01mraise\u001b[39;00m ex\u001b[38;5;241m.\u001b[39mwith_traceback(\u001b[38;5;28;01mNone\u001b[39;00m)\n\u001b[0;32m    738\u001b[0m \u001b[38;5;28;01mreturn\u001b[39;00m \u001b[38;5;28mself\u001b[39m\n",
      "\u001b[1;31mKeyboardInterrupt\u001b[0m: "
     ]
    }
   ],
   "source": [
    "cur.execute(\"\"\"\n",
    "    CREATE TABLE POI_GEO (\n",
    "        location GEOMETRY(Point, 4326),\n",
    "        name VARCHAR(10),\n",
    "        category INT\n",
    "    )\n",
    "\"\"\")"
   ]
  },
  {
   "cell_type": "code",
   "execution_count": 38,
   "id": "34527583",
   "metadata": {},
   "outputs": [],
   "source": [
    "conn.commit()"
   ]
  },
  {
   "cell_type": "code",
   "execution_count": 46,
   "id": "65c0d154",
   "metadata": {},
   "outputs": [],
   "source": [
    "import random\n",
    "import string"
   ]
  },
  {
   "cell_type": "code",
   "execution_count": 47,
   "id": "909c6f4f",
   "metadata": {},
   "outputs": [],
   "source": [
    "conn.commit()"
   ]
  },
  {
   "cell_type": "code",
   "execution_count": 48,
   "id": "cce6d96a",
   "metadata": {},
   "outputs": [],
   "source": [
    "for _ in range(1000):\n",
    "    latitude = random.uniform(37.0, 38.0)\n",
    "    longitude = random.uniform(127.0, 128.0)\n",
    "    name = ''.join(random.choice(string.ascii_uppercase) for _ in range(10))\n",
    "    category = random.randint(1, 10)\n",
    "    \n",
    "    # 데이터 삽입 쿼리 실행\n",
    "    cur.execute(\"INSERT INTO POI2 (latitude, longitude, name, category) VALUES (%s, %s, %s, %s)\", (latitude, longitude, name, category))"
   ]
  },
  {
   "cell_type": "code",
   "execution_count": 14,
   "id": "f38e9106",
   "metadata": {},
   "outputs": [],
   "source": [
    "conn.commit()"
   ]
  },
  {
   "cell_type": "code",
   "execution_count": 51,
   "id": "3ae84850",
   "metadata": {},
   "outputs": [
    {
     "name": "stdout",
     "output_type": "stream",
     "text": [
      "좌표: (37.475003961033366, 127.44734486145997), 명칭: RLKVIOOSAA, 종별: 1\n",
      "좌표: (37.492558119819044, 127.54544013070095), 명칭: XXDARZNSUQ, 종별: 3\n",
      "좌표: (37.45539271372685, 127.54597786750519), 명칭: IOACPFXXYW, 종별: 3\n",
      "좌표: (37.510095235002616, 127.59957813406605), 명칭: DPTOOAYCRZ, 종별: 1\n",
      "좌표: (37.46881106366824, 127.47164773726867), 명칭: QNHJLKJPAQ, 종별: 3\n",
      "좌표: (37.467085365618665, 127.46631644727123), 명칭: BRQVZSXTZB, 종별: 5\n",
      "좌표: (37.5401251622427, 127.50224019842673), 명칭: CSGNWMBRDN, 종별: 8\n",
      "좌표: (37.44439197004407, 127.56772408354527), 명칭: HEECRAXVSA, 종별: 2\n",
      "좌표: (37.58083300130389, 127.50485099988731), 명칭: KRIAJAZAPK, 종별: 9\n",
      "좌표: (37.41821652360525, 127.42327291323889), 명칭: QTYAPFPUXA, 종별: 10\n",
      "좌표: (37.53778049117368, 127.43238760020614), 명칭: DVWKLMNWRQ, 종별: 6\n",
      "좌표: (37.52139796463147, 127.59111507346319), 명칭: ZVZZOOPJDE, 종별: 7\n",
      "좌표: (37.439284765239805, 127.54387985945438), 명칭: AKCYWXTBAL, 종별: 6\n",
      "좌표: (37.49730954230643, 127.57068800013737), 명칭: GUQLVTAQRY, 종별: 7\n",
      "좌표: (37.45995923422738, 127.57692738945426), 명칭: OTPYRXXHYA, 종별: 9\n",
      "좌표: (37.548246626946764, 127.58192017109704), 명칭: FVYJWTOBYN, 종별: 1\n",
      "좌표: (37.56186720699549, 127.52978198725435), 명칭: MOTJFESLGH, 종별: 9\n",
      "좌표: (37.4194337564125, 127.54732763292571), 명칭: FSQFZAJOJG, 종별: 1\n",
      "좌표: (37.580381030472694, 127.55716200503053), 명칭: LCDNNJHCST, 종별: 1\n",
      "좌표: (37.472678651006746, 127.42182283978491), 명칭: JIDTPVYEJR, 종별: 6\n",
      "좌표: (37.42912710578579, 127.52420771576543), 명칭: CQZRABZECX, 종별: 3\n",
      "좌표: (37.55239924756601, 127.5538759764826), 명칭: JFZTDBFWSV, 종별: 9\n",
      "좌표: (37.428963262169965, 127.5643069206376), 명칭: ULJJDILXOR, 종별: 3\n",
      "좌표: (37.582789663253635, 127.52990509212388), 명칭: BGCQNASBEF, 종별: 3\n",
      "좌표: (37.48299544627497, 127.45747924483183), 명칭: IYPPPVWHGK, 종별: 8\n",
      "좌표: (37.54226781851264, 127.47939625808864), 명칭: LNIWZCDLPQ, 종별: 8\n",
      "좌표: (37.5562208092068, 127.40287895690342), 명칭: QSOCRSSMKJ, 종별: 4\n",
      "좌표: (37.47715549264278, 127.58827984078512), 명칭: QICSHTIHUN, 종별: 10\n",
      "좌표: (37.53922477354879, 127.57797966997914), 명칭: HWSCODMXOO, 종별: 3\n",
      "좌표: (37.45002295461858, 127.54197921988774), 명칭: TRXXRGLGLK, 종별: 7\n",
      "좌표: (37.54899831360569, 127.4469026735965), 명칭: BHPNWMXSJK, 종별: 2\n",
      "좌표: (37.47909313084884, 127.41331710109195), 명칭: RKBTHIUBCW, 종별: 3\n",
      "좌표: (37.56617748504391, 127.47958271933318), 명칭: FTZEGWVPBO, 종별: 4\n",
      "좌표: (37.58586960080945, 127.49409604993473), 명칭: TRAMKGLEBQ, 종별: 6\n",
      "좌표: (37.43016679724936, 127.57182983392853), 명칭: GNAYDVSATP, 종별: 9\n",
      "좌표: (37.54062896208397, 127.41804322443046), 명칭: XJRGILBBYW, 종별: 10\n",
      "좌표: (37.415555453308095, 127.50214494898799), 명칭: TFNMJJJKKV, 종별: 3\n",
      "좌표: (37.52333119223577, 127.4488563159004), 명칭: MPBDTAPBGA, 종별: 5\n",
      "좌표: (37.5589114649795, 127.43582077507584), 명칭: WVBKKTVRWA, 종별: 4\n",
      "좌표: (37.408243329156114, 127.47469651050068), 명칭: BPIQMQWBFZ, 종별: 2\n",
      "좌표: (37.525261181309034, 127.4696499287456), 명칭: LEMRGBSTBA, 종별: 9\n",
      "좌표: (37.56986396629003, 127.48384200335722), 명칭: JUZZYPRVXA, 종별: 3\n",
      "좌표: (37.57031887338661, 127.50548954894909), 명칭: YRBQBTHJMI, 종별: 3\n",
      "좌표: (37.41915860329559, 127.59609124730393), 명칭: WCJATBVUEZ, 종별: 3\n",
      "좌표: (37.43049495274273, 127.548835011733), 명칭: LLWYNHIRJI, 종별: 5\n",
      "좌표: (37.5961503677527, 127.4505315169507), 명칭: BKLCKQXVHS, 종별: 9\n",
      "좌표: (37.517223416052786, 127.58946712108786), 명칭: NLOLLYYZFJ, 종별: 6\n",
      "좌표: (37.43868703047467, 127.42550913179464), 명칭: WPIHPEEUTM, 종별: 10\n",
      "좌표: (37.4530085622467, 127.53723661487268), 명칭: FDSHAFTNPR, 종별: 2\n",
      "좌표: (37.447732503566, 127.5403251087578), 명칭: TUPZQSXMDL, 종별: 10\n",
      "좌표: (37.57483557384312, 127.48531989457427), 명칭: SBJBOPKBWA, 종별: 10\n",
      "좌표: (37.53685665899632, 127.43235525512117), 명칭: JBMISBWIQD, 종별: 4\n",
      "좌표: (37.546207802092134, 127.4156009913255), 명칭: TYUACQBHHZ, 종별: 4\n",
      "좌표: (37.48488099725558, 127.45794458950402), 명칭: CPCNWGNPAV, 종별: 7\n",
      "좌표: (37.509067399919054, 127.53270149158568), 명칭: ZXBRKFUWVD, 종별: 6\n",
      "좌표: (37.501709261522116, 127.5677185228102), 명칭: HMBYWRKDHO, 종별: 4\n",
      "좌표: (37.586013589807486, 127.45073985750521), 명칭: AWPOXDJWMK, 종별: 6\n",
      "좌표: (37.59370851161327, 127.46976030447874), 명칭: EMHNVMNGBY, 종별: 2\n",
      "좌표: (37.527996004716854, 127.46739260630275), 명칭: QVKUYBWEMZ, 종별: 2\n",
      "좌표: (37.52895895640023, 127.44432616267599), 명칭: PCQKVLMECV, 종별: 8\n",
      "좌표: (37.598171615780636, 127.57177923920233), 명칭: AMHJUOJWDI, 종별: 8\n",
      "좌표: (37.581962702602226, 127.47376831961762), 명칭: NSCYHNZOCW, 종별: 7\n",
      "좌표: (37.43588693694506, 127.5528384888156), 명칭: LQKTUAAUPY, 종별: 10\n",
      "좌표: (37.53311941107899, 127.50725882966283), 명칭: CGAOXIDPUP, 종별: 1\n",
      "좌표: (37.58248471656638, 127.49426428422454), 명칭: DKFWJPYVEU, 종별: 7\n",
      "좌표: (37.58829711592516, 127.59576204746617), 명칭: HSUHNUHSYA, 종별: 2\n",
      "좌표: (37.499442630476565, 127.40744884757001), 명칭: VBYJXEFMGG, 종별: 6\n",
      "좌표: (37.5561141475704, 127.59924307181312), 명칭: UTBQCNHOYW, 종별: 2\n",
      "좌표: (37.574893614483216, 127.47730150808366), 명칭: LMWJTGSLEV, 종별: 6\n",
      "좌표: (37.58427602440931, 127.445844431693), 명칭: SVWOEXOAGP, 종별: 4\n",
      "좌표: (37.455466014929875, 127.52938323067094), 명칭: SSAFKUJQMG, 종별: 8\n",
      "좌표: (37.407847637433804, 127.53637075583816), 명칭: CHAESXLXKO, 종별: 2\n",
      "좌표: (37.594608878609904, 127.52920300455989), 명칭: TKMGYIWFEA, 종별: 3\n",
      "좌표: (37.55172984543504, 127.48250535126043), 명칭: WHRUIFVTWP, 종별: 5\n",
      "좌표: (37.57048585533162, 127.59478893254439), 명칭: AZKYOAGSVF, 종별: 7\n",
      "좌표: (37.44734530933154, 127.53494810560878), 명칭: RDLSOXURAC, 종별: 1\n",
      "좌표: (37.50645980010552, 127.46291982112828), 명칭: NPMLVWECWT, 종별: 5\n",
      "좌표: (37.52428791731709, 127.44344078759255), 명칭: DEMEYDIFYG, 종별: 2\n",
      "좌표: (37.4638445878835, 127.5409820675005), 명칭: ZQRCYSMUVF, 종별: 1\n",
      "좌표: (37.44828880051893, 127.52428936983426), 명칭: IYAUMZKXTS, 종별: 4\n",
      "좌표: (37.59312824923772, 127.53040266594058), 명칭: RNFXAPVGPB, 종별: 4\n",
      "좌표: (37.508158624580616, 127.53810955072555), 명칭: NGITDEKHEU, 종별: 8\n",
      "좌표: (37.55245386510087, 127.53192604350764), 명칭: QATBCWZXFX, 종별: 4\n",
      "좌표: (37.40540961002753, 127.41257723629137), 명칭: TEWWCNRGJF, 종별: 9\n"
     ]
    }
   ],
   "source": [
    "cur.execute(\"\"\"\n",
    "    SELECT * FROM POI2 \n",
    "    WHERE \n",
    "        longitude BETWEEN 127.4 AND 127.6 \n",
    "        AND latitude BETWEEN 37.4 AND 37.6\n",
    "\"\"\")\n",
    "\n",
    "# 결과 출력\n",
    "filtered_data = cur.fetchall()\n",
    "for row in filtered_data:\n",
    "    print(f'좌표: ({row[0]}, {row[1]}), 명칭: {row[2]}, 종별: {row[3]}')"
   ]
  },
  {
   "cell_type": "code",
   "execution_count": null,
   "id": "b4adb306",
   "metadata": {},
   "outputs": [],
   "source": []
  }
 ],
 "metadata": {
  "kernelspec": {
   "display_name": "Python 3 (ipykernel)",
   "language": "python",
   "name": "python3"
  },
  "language_info": {
   "codemirror_mode": {
    "name": "ipython",
    "version": 3
   },
   "file_extension": ".py",
   "mimetype": "text/x-python",
   "name": "python",
   "nbconvert_exporter": "python",
   "pygments_lexer": "ipython3",
   "version": "3.11.4"
  }
 },
 "nbformat": 4,
 "nbformat_minor": 5
}
