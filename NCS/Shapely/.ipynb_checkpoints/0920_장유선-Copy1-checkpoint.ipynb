{
 "cells": [
  {
   "cell_type": "code",
   "execution_count": null,
   "id": "a839022f",
   "metadata": {},
   "outputs": [],
   "source": [
    "import psycopg\n",
    "from psycopg.types.shapely import register_shapely\n",
    "from shapely.geometry import Point"
   ]
  },
  {
   "cell_type": "code",
   "execution_count": 24,
   "id": "92911080",
   "metadata": {},
   "outputs": [
    {
     "name": "stdout",
     "output_type": "stream",
     "text": [
      "3.1.10\n"
     ]
    }
   ],
   "source": [
    "info = psycopg.types.TypeInfo.fetch(connection, \"geometry\")\n",
    "register_shapely(info, connection)"
   ]
  },
  {
   "cell_type": "code",
   "execution_count": 25,
   "id": "59ce9c75",
   "metadata": {},
   "outputs": [],
   "source": [
    "connection = psycopg.connect(\n",
    "    \"host=localhost dbname=postgres user=postgres password=0815 port=5432\"\n",
    ") "
   ]
  },
  {
   "cell_type": "code",
   "execution_count": 26,
   "id": "0d052b81",
   "metadata": {},
   "outputs": [],
   "source": [
    "cursor = connection.cursor()\n",
    "cursor.execute(\"CREATE TABLE poi_geo (name VARCHAR(10), location GEOMETRY,category INT)\")"
   ]
  },
  {
   "cell_type": "code",
   "execution_count": null,
   "id": "b4adb306",
   "metadata": {},
   "outputs": [],
   "source": [
    "connection.commit()"
   ]
  }
 ],
 "metadata": {
  "kernelspec": {
   "display_name": "Python 3 (ipykernel)",
   "language": "python",
   "name": "python3"
  },
  "language_info": {
   "codemirror_mode": {
    "name": "ipython",
    "version": 3
   },
   "file_extension": ".py",
   "mimetype": "text/x-python",
   "name": "python",
   "nbconvert_exporter": "python",
   "pygments_lexer": "ipython3",
   "version": "3.11.4"
  }
 },
 "nbformat": 4,
 "nbformat_minor": 5
}
